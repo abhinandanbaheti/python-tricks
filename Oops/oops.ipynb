{
 "cells": [
  {
   "cell_type": "markdown",
   "metadata": {},
   "source": [
    "### OOps Concepts"
   ]
  },
  {
   "cell_type": "markdown",
   "metadata": {},
   "source": [
    "### repr and str overriding"
   ]
  },
  {
   "cell_type": "code",
   "execution_count": 20,
   "metadata": {},
   "outputs": [],
   "source": [
    "class Directory:\n",
    "    def __init__(self):\n",
    "        self.hosts = []\n",
    "    def __repr__(self):\n",
    "        return f'<REPR Directory of {len(self.hosts)} hosts>'\n",
    "    def __str__(self):\n",
    "        return f'<STR Directory of {len(self.hosts)} hosts>'\n",
    "    def add_host(self, val):\n",
    "        self.hosts.append(val)"
   ]
  },
  {
   "cell_type": "code",
   "execution_count": 21,
   "metadata": {},
   "outputs": [],
   "source": [
    "do = Directory()"
   ]
  },
  {
   "cell_type": "code",
   "execution_count": 22,
   "metadata": {},
   "outputs": [],
   "source": [
    "do.add_host(1)\n",
    "do.add_host(2)\n",
    "do.add_host(3)"
   ]
  },
  {
   "cell_type": "code",
   "execution_count": 23,
   "metadata": {},
   "outputs": [
    {
     "data": {
      "text/plain": [
       "<REPR Directory of 3 hosts>"
      ]
     },
     "execution_count": 23,
     "metadata": {},
     "output_type": "execute_result"
    }
   ],
   "source": [
    "do"
   ]
  },
  {
   "cell_type": "code",
   "execution_count": 24,
   "metadata": {},
   "outputs": [
    {
     "name": "stdout",
     "output_type": "stream",
     "text": [
      "<STR Directory of 3 hosts>\n"
     ]
    }
   ],
   "source": [
    "print(do)"
   ]
  },
  {
   "cell_type": "code",
   "execution_count": 25,
   "metadata": {},
   "outputs": [
    {
     "data": {
      "text/plain": [
       "'<STR Directory of 3 hosts>'"
      ]
     },
     "execution_count": 25,
     "metadata": {},
     "output_type": "execute_result"
    }
   ],
   "source": [
    "str(do)"
   ]
  },
  {
   "cell_type": "code",
   "execution_count": 26,
   "metadata": {},
   "outputs": [
    {
     "data": {
      "text/plain": [
       "'<REPR Directory of 3 hosts>'"
      ]
     },
     "execution_count": 26,
     "metadata": {},
     "output_type": "execute_result"
    }
   ],
   "source": [
    "repr(do)"
   ]
  },
  {
   "cell_type": "code",
   "execution_count": 27,
   "metadata": {},
   "outputs": [
    {
     "data": {
      "text/plain": [
       "False"
      ]
     },
     "execution_count": 27,
     "metadata": {},
     "output_type": "execute_result"
    }
   ],
   "source": [
    "hasattr(do, 'foo')"
   ]
  },
  {
   "cell_type": "code",
   "execution_count": 29,
   "metadata": {},
   "outputs": [],
   "source": [
    "setattr(do,'foo',5)"
   ]
  },
  {
   "cell_type": "code",
   "execution_count": 30,
   "metadata": {},
   "outputs": [
    {
     "data": {
      "text/plain": [
       "True"
      ]
     },
     "execution_count": 30,
     "metadata": {},
     "output_type": "execute_result"
    }
   ],
   "source": [
    "hasattr(do, 'foo')"
   ]
  },
  {
   "cell_type": "code",
   "execution_count": 31,
   "metadata": {
    "scrolled": true
   },
   "outputs": [
    {
     "data": {
      "text/plain": [
       "5"
      ]
     },
     "execution_count": 31,
     "metadata": {},
     "output_type": "execute_result"
    }
   ],
   "source": [
    "getattr(do,'foo')"
   ]
  },
  {
   "cell_type": "markdown",
   "metadata": {},
   "source": [
    "### overriding getattr and setitem"
   ]
  },
  {
   "cell_type": "code",
   "execution_count": 34,
   "metadata": {},
   "outputs": [],
   "source": [
    "class Proxy():\n",
    "    def __init__(self, real):\n",
    "        self._real = real\n",
    "    def __getattr__(self, name):\n",
    "        if name.startswith('_'):\n",
    "            raise AttributeError\n",
    "        return getattr(self._real, name)\n",
    "\n",
    "    def __setitem__(self, key, value):\n",
    "        self._real[key] = value"
   ]
  },
  {
   "cell_type": "code",
   "execution_count": 35,
   "metadata": {
    "scrolled": true
   },
   "outputs": [
    {
     "name": "stdout",
     "output_type": "stream",
     "text": [
      "None\n",
      "[6, 5]\n",
      "<__main__.Proxy object at 0x111ae7630>\n",
      "real\n",
      "[6, 10]\n"
     ]
    }
   ],
   "source": [
    "l = []\n",
    "p = Proxy(l)\n",
    "p.append(6)\n",
    "print(p.append(5)) ## returning None\n",
    "print(p._real)\n",
    "p[1] = 10\n",
    "print(p)\n",
    "print(\"real\")\n",
    "print(p._real)\n"
   ]
  },
  {
   "cell_type": "markdown",
   "metadata": {},
   "source": [
    "### Add two class objects but overidding default int, add, radd method"
   ]
  },
  {
   "cell_type": "code",
   "execution_count": 36,
   "metadata": {},
   "outputs": [
    {
     "name": "stdout",
     "output_type": "stream",
     "text": [
      "calling add\n",
      "in init\n",
      "in init\n",
      "6\n",
      "calling radd\n",
      "in init\n",
      "8\n",
      "calling add\n",
      "in init\n",
      "13\n"
     ]
    }
   ],
   "source": [
    "from  collections import namedtuple\n",
    "_student = namedtuple('_student', 'age name')\n",
    "class addition(_student):\n",
    "    def __int__(self):\n",
    "        print(\"in init\")\n",
    "        return int(self.age)\n",
    "\n",
    "    def __add__(self, other):\n",
    "        print(\"calling add\")\n",
    "        return int(self) + int(other)\n",
    "\n",
    "    def __radd__(self, other):\n",
    "        print(\"calling radd\")\n",
    "        return int(self) + int(other)\n",
    "\n",
    "aa = addition(age='3', name='af')\n",
    "print(aa+aa)\n",
    "print(5+aa)\n",
    "print(aa+10)"
   ]
  },
  {
   "cell_type": "markdown",
   "metadata": {},
   "source": [
    "### Handling Attribute Error for inheritance problems"
   ]
  },
  {
   "cell_type": "code",
   "execution_count": 38,
   "metadata": {},
   "outputs": [],
   "source": [
    "class A:\n",
    "    p=2\n",
    "    def test(self):\n",
    "        pass\n",
    "\n",
    "class B(A):\n",
    "    def test(self):\n",
    "        pass\n",
    "    def __getattr__(self, item):\n",
    "        return None\n"
   ]
  },
  {
   "cell_type": "code",
   "execution_count": 39,
   "metadata": {},
   "outputs": [
    {
     "name": "stdout",
     "output_type": "stream",
     "text": [
      "None\n",
      "2\n"
     ]
    }
   ],
   "source": [
    "b = B()\n",
    "print(b.c)\n",
    "print(b.p)"
   ]
  },
  {
   "cell_type": "code",
   "execution_count": 40,
   "metadata": {},
   "outputs": [],
   "source": [
    "class Proxy():\n",
    "    def __init__(self, val):\n",
    "        self._value = val\n",
    "\n",
    "    def __getattr__(self, name):\n",
    "        return getattr(self._value, name)\n",
    "    def __add__(self, name):\n",
    "        return self._value + name"
   ]
  },
  {
   "cell_type": "code",
   "execution_count": 41,
   "metadata": {},
   "outputs": [
    {
     "name": "stdout",
     "output_type": "stream",
     "text": [
      "True\n",
      "15\n"
     ]
    }
   ],
   "source": [
    "p = Proxy('foo')\n",
    "print(p.startswith('f'))\n",
    "p = Proxy(5)\n",
    "print(p + 10)"
   ]
  },
  {
   "cell_type": "code",
   "execution_count": null,
   "metadata": {},
   "outputs": [],
   "source": []
  }
 ],
 "metadata": {
  "kernelspec": {
   "display_name": "Python 3",
   "language": "python",
   "name": "python3"
  },
  "language_info": {
   "codemirror_mode": {
    "name": "ipython",
    "version": 3
   },
   "file_extension": ".py",
   "mimetype": "text/x-python",
   "name": "python",
   "nbconvert_exporter": "python",
   "pygments_lexer": "ipython3",
   "version": "3.7.3"
  }
 },
 "nbformat": 4,
 "nbformat_minor": 2
}
